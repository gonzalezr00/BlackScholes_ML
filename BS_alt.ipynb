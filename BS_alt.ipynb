{
  "cells": [
    {
      "cell_type": "code",
      "execution_count": null,
      "metadata": {
        "id": "_G2vKVK-UB1u",
        "colab": {
          "base_uri": "https://localhost:8080/"
        },
        "outputId": "9a77193b-622f-4e17-965b-33d9a268a986"
      },
      "outputs": [
        {
          "output_type": "stream",
          "name": "stderr",
          "text": [
            "<ipython-input-32-46d783c5a084>:8: NumbaDeprecationWarning: The 'nopython' keyword argument was not supplied to the 'numba.jit' decorator. The implicit default value for this argument is currently False, but it will be changed to True in Numba 0.59.0. See https://numba.readthedocs.io/en/stable/reference/deprecation.html#deprecation-of-object-mode-fall-back-behaviour-when-using-jit for details.\n",
            "  def blackscholes(S, K, T, r, σ):\n"
          ]
        }
      ],
      "source": [
        "# use numba to speed up execution of the function\n",
        "import numpy as np\n",
        "from numpy import log, sqrt, exp\n",
        "from scipy.stats import norm\n",
        "from numba import jit\n",
        "\n",
        "@jit\n",
        "def blackscholes(S, K, T, r, σ):\n",
        "  d1 = (log(S/K) + (r + σ**2 / 2) * T) / (σ*sqrt(T))\n",
        "  d2 = d1 - σ * sqrt(T)\n",
        "  call = S * norm.cdf(d1) - K * exp(-r*T) * norm.cdf(d2)\n",
        "  return call"
      ]
    },
    {
      "cell_type": "code",
      "execution_count": null,
      "metadata": {
        "id": "XsxBFIX3HKhU",
        "colab": {
          "base_uri": "https://localhost:8080/"
        },
        "outputId": "3ea5ce8a-59dd-4e2d-b7b3-985265f61d5c"
      },
      "outputs": [
        {
          "output_type": "stream",
          "name": "stderr",
          "text": [
            "<ipython-input-32-46d783c5a084>:7: NumbaWarning: \n",
            "Compilation is falling back to object mode WITH looplifting enabled because Function \"blackscholes\" failed type inference due to: Untyped global name 'norm': Cannot determine Numba type of <class 'scipy.stats._continuous_distns.norm_gen'>\n",
            "\n",
            "File \"<ipython-input-32-46d783c5a084>\", line 11:\n",
            "def blackscholes(S, K, T, r, σ):\n",
            "    <source elided>\n",
            "  d2 = d1 - σ * sqrt(T)\n",
            "  call = S * norm.cdf(d1) - K * exp(-r*T) * norm.cdf(d2)\n",
            "  ^\n",
            "\n",
            "  @jit\n",
            "/usr/local/lib/python3.10/dist-packages/numba/core/object_mode_passes.py:151: NumbaWarning: Function \"blackscholes\" was compiled in object mode without forceobj=True.\n",
            "\n",
            "File \"<ipython-input-32-46d783c5a084>\", line 8:\n",
            "@jit\n",
            "def blackscholes(S, K, T, r, σ):\n",
            "^\n",
            "\n",
            "  warnings.warn(errors.NumbaWarning(warn_msg,\n",
            "/usr/local/lib/python3.10/dist-packages/numba/core/object_mode_passes.py:161: NumbaDeprecationWarning: \n",
            "Fall-back from the nopython compilation path to the object mode compilation path has been detected. This is deprecated behaviour that will be removed in Numba 0.59.0.\n",
            "\n",
            "For more information visit https://numba.readthedocs.io/en/stable/reference/deprecation.html#deprecation-of-object-mode-fall-back-behaviour-when-using-jit\n",
            "\n",
            "File \"<ipython-input-32-46d783c5a084>\", line 8:\n",
            "@jit\n",
            "def blackscholes(S, K, T, r, σ):\n",
            "^\n",
            "\n",
            "  warnings.warn(errors.NumbaDeprecationWarning(msg,\n"
          ]
        }
      ],
      "source": [
        "# generate synthetic data in the vicinity of S=100, K=100, T=1, etc. and save it to disk\n",
        "SK = np.arange(99, 101, 0.05)\n",
        "T = np.arange(0.9, 1.1, 0.05)\n",
        "r = np.arange(0.02, 0.05, 0.001)\n",
        "σ = np.arange(0.1, 0.2, 0.01)\n",
        "SS, KK, TT, rr, σσ = np.meshgrid(SK, SK, T, r, σ)\n",
        "YY = blackscholes(SS, KK, TT, rr, σσ)\n",
        "\n",
        "rows = np.stack([z.ravel() for z in (YY, SS, KK, TT, rr, σσ)], axis=1)\n",
        "np.savetxt('data.csv', rows, fmt='%.5f', delimiter=',', newline='\\n', comments='', header='Call,S,K,T,r,sigma')"
      ]
    },
    {
      "cell_type": "code",
      "source": [
        "# we generated 120MB of data !\n",
        "!ls -l data.csv\n",
        "!head data.csv"
      ],
      "metadata": {
        "colab": {
          "base_uri": "https://localhost:8080/"
        },
        "id": "UHMHiy3UOrP2",
        "outputId": "52236922-45d4-4e62-acc6-927e50ef1b58"
      },
      "execution_count": null,
      "outputs": [
        {
          "output_type": "stream",
          "name": "stdout",
          "text": [
            "-rw-r--r-- 1 root root 122466281 Feb  9 13:29 data.csv\n",
            "Call,S,K,T,r,sigma\n",
            "4.66163,99.00000,99.00000,0.90000,0.02000,0.10000\n",
            "5.02648,99.00000,99.00000,0.90000,0.02000,0.11000\n",
            "5.39224,99.00000,99.00000,0.90000,0.02000,0.12000\n",
            "5.75866,99.00000,99.00000,0.90000,0.02000,0.13000\n",
            "6.12558,99.00000,99.00000,0.90000,0.02000,0.14000\n",
            "6.49287,99.00000,99.00000,0.90000,0.02000,0.15000\n",
            "6.86043,99.00000,99.00000,0.90000,0.02000,0.16000\n",
            "7.22818,99.00000,99.00000,0.90000,0.02000,0.17000\n",
            "7.59606,99.00000,99.00000,0.90000,0.02000,0.18000\n"
          ]
        }
      ]
    },
    {
      "cell_type": "code",
      "source": [
        "# train a MLP on the data and save trained model to disk\n",
        "import numpy as np\n",
        "import pandas as pd\n",
        "from sklearn.neural_network import MLPRegressor\n",
        "from sklearn.model_selection import train_test_split\n",
        "from joblib import dump, load\n",
        "\n",
        "df = pd.read_csv(\"data.csv\", dtype=np.float32)\n",
        "y = df.pop('Call').values\n",
        "df.S = df.S/100\n",
        "df.K = df.K/100\n",
        "X = df.values\n",
        "X_train, X_test, y_train, y_test = train_test_split(X, y, test_size=0.2, random_state=42)\n",
        "regr = MLPRegressor(random_state=42, max_iter=500).fit(X_train, y_train)\n",
        "regr.predict(X_test[:5])\n",
        "regr.score(X_test, y_test)\n",
        "dump(regr, 'mlpregressor.joblib')"
      ],
      "metadata": {
        "colab": {
          "base_uri": "https://localhost:8080/"
        },
        "id": "27a7sucaO9od",
        "outputId": "4302ea37-fdee-4594-b8ce-63126fb4f039"
      },
      "execution_count": null,
      "outputs": [
        {
          "output_type": "execute_result",
          "data": {
            "text/plain": [
              "['mlpregressor.joblib']"
            ]
          },
          "metadata": {},
          "execution_count": 35
        }
      ]
    },
    {
      "cell_type": "code",
      "source": [
        "# create input data for inference, in the range and way out of range, model should behave badly there\n",
        "!echo \"S,K,T,r,sigma\" > input.csv\n",
        "!echo \"100,100,1,0.05,0.1\" >> input.csv\n",
        "!echo \"100,100,1,0.05,0.11\" >> input.csv\n",
        "!echo \"100,100,1,0.05,0.12\" >> input.csv\n",
        "!echo \"99.8,100,1,0.05,0.11\" >> input.csv\n",
        "!echo \"99.8,105,1,0.02,0.2\" >> input.csv\n",
        "!echo \"95,125,0.5,0.02,0.2\" >> input.csv"
      ],
      "metadata": {
        "id": "-SUIFQtDRvux"
      },
      "execution_count": null,
      "outputs": []
    },
    {
      "cell_type": "code",
      "source": [
        "# reload the model and run inference on new data\n",
        "# ground truth is 6.8020, 7.1543, 7.5100, 7.0121, 6.2715, 0.1829\n",
        "regr = load('mlpregressor.joblib')\n",
        "df = pd.read_csv('input.csv')\n",
        "print(df)\n",
        "df.S = df.S/100\n",
        "df.K = df.K/100\n",
        "regr.predict(df.values)"
      ],
      "metadata": {
        "colab": {
          "base_uri": "https://localhost:8080/"
        },
        "id": "kFkubOnXP0aU",
        "outputId": "d179f778-f1e7-4251-d167-79fd36621245"
      },
      "execution_count": null,
      "outputs": [
        {
          "output_type": "stream",
          "name": "stdout",
          "text": [
            "       S    K    T     r  sigma\n",
            "0  100.0  100  1.0  0.05   0.10\n",
            "1  100.0  100  1.0  0.05   0.11\n",
            "2  100.0  100  1.0  0.05   0.12\n",
            "3   99.8  100  1.0  0.05   0.11\n",
            "4   99.8  105  1.0  0.02   0.20\n",
            "5   95.0  125  0.5  0.02   0.20\n"
          ]
        },
        {
          "output_type": "execute_result",
          "data": {
            "text/plain": [
              "array([ 6.73918979,  7.09937476,  7.45955973,  6.96970988,  6.11336577,\n",
              "       -9.57364573])"
            ]
          },
          "metadata": {},
          "execution_count": 42
        }
      ]
    }
  ],
  "metadata": {
    "colab": {
      "provenance": []
    },
    "kernelspec": {
      "display_name": "Python 3",
      "name": "python3"
    },
    "language_info": {
      "codemirror_mode": {
        "name": "ipython",
        "version": 3
      },
      "file_extension": ".py",
      "mimetype": "text/x-python",
      "name": "python",
      "nbconvert_exporter": "python",
      "pygments_lexer": "ipython3",
      "version": "3.9.9"
    }
  },
  "nbformat": 4,
  "nbformat_minor": 0
}